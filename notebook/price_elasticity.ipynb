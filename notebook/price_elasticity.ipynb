{
 "cells": [
  {
   "cell_type": "markdown",
   "id": "7a771d58",
   "metadata": {},
   "source": [
    "# 0.0 imports"
   ]
  },
  {
   "cell_type": "code",
   "execution_count": 74,
   "id": "80fcfaf1",
   "metadata": {
    "ExecuteTime": {
     "end_time": "2024-11-18T21:33:47.314188Z",
     "start_time": "2024-11-18T21:33:47.309723Z"
    }
   },
   "outputs": [],
   "source": [
    "import pandas as pd\n",
    "import inflection\n",
    "import numpy as np"
   ]
  },
  {
   "cell_type": "markdown",
   "id": "a1229285",
   "metadata": {},
   "source": [
    "# 1.0 load dataset"
   ]
  },
  {
   "cell_type": "code",
   "execution_count": 42,
   "id": "a5e89c1f",
   "metadata": {
    "ExecuteTime": {
     "end_time": "2024-11-18T21:14:20.483736Z",
     "start_time": "2024-11-18T21:14:20.357895Z"
    }
   },
   "outputs": [],
   "source": [
    "df_raw = pd.read_csv('../data/df_ready.csv')"
   ]
  },
  {
   "cell_type": "markdown",
   "id": "c4d8bc73",
   "metadata": {},
   "source": [
    "# 2.0 data description"
   ]
  },
  {
   "cell_type": "code",
   "execution_count": 57,
   "id": "ab9aaf9c",
   "metadata": {
    "ExecuteTime": {
     "end_time": "2024-11-18T21:24:28.662448Z",
     "start_time": "2024-11-18T21:24:28.654799Z"
    }
   },
   "outputs": [],
   "source": [
    "df1 = df_raw.copy()"
   ]
  },
  {
   "cell_type": "code",
   "execution_count": 58,
   "id": "1aa8442f",
   "metadata": {
    "ExecuteTime": {
     "end_time": "2024-11-18T21:24:29.232233Z",
     "start_time": "2024-11-18T21:24:29.223461Z"
    }
   },
   "outputs": [],
   "source": [
    "cols_selected = ['Date_imp_d', 'Category_name', 'name', 'price', 'merchant', 'brand', 'manufacturer','Day_n', 'month', 'month_n', 'day', 'Week_Number']\n",
    "df1 = df1[cols_selected]"
   ]
  },
  {
   "cell_type": "markdown",
   "id": "d499f31e",
   "metadata": {
    "heading_collapsed": true
   },
   "source": [
    "## 2.1 rename columns"
   ]
  },
  {
   "cell_type": "code",
   "execution_count": 59,
   "id": "e4f6ee99",
   "metadata": {
    "ExecuteTime": {
     "end_time": "2024-11-18T21:24:30.359710Z",
     "start_time": "2024-11-18T21:24:30.355135Z"
    },
    "hidden": true
   },
   "outputs": [],
   "source": [
    "cols_old = ['Date_imp_d', 'Category_name', 'name', 'price', 'merchant', 'brand', 'manufacturer','Day_n', 'month', 'month_n', 'day', 'Week_Number']\n",
    "\n",
    "snakecase = lambda x: inflection.underscore(x)\n",
    "cols_new = list(map(snakecase, cols_old))\n",
    "\n",
    "# rename\n",
    "df1.columns = cols_new"
   ]
  },
  {
   "cell_type": "code",
   "execution_count": 60,
   "id": "75195a43",
   "metadata": {
    "ExecuteTime": {
     "end_time": "2024-11-18T21:24:31.068744Z",
     "start_time": "2024-11-18T21:24:31.059431Z"
    },
    "hidden": true
   },
   "outputs": [
    {
     "data": {
      "text/html": [
       "<div>\n",
       "<style scoped>\n",
       "    .dataframe tbody tr th:only-of-type {\n",
       "        vertical-align: middle;\n",
       "    }\n",
       "\n",
       "    .dataframe tbody tr th {\n",
       "        vertical-align: top;\n",
       "    }\n",
       "\n",
       "    .dataframe thead th {\n",
       "        text-align: right;\n",
       "    }\n",
       "</style>\n",
       "<table border=\"1\" class=\"dataframe\">\n",
       "  <thead>\n",
       "    <tr style=\"text-align: right;\">\n",
       "      <th></th>\n",
       "      <th>date_imp_d</th>\n",
       "      <th>category_name</th>\n",
       "      <th>name</th>\n",
       "      <th>price</th>\n",
       "      <th>merchant</th>\n",
       "      <th>brand</th>\n",
       "      <th>manufacturer</th>\n",
       "      <th>day_n</th>\n",
       "      <th>month</th>\n",
       "      <th>month_n</th>\n",
       "      <th>day</th>\n",
       "      <th>week_number</th>\n",
       "    </tr>\n",
       "  </thead>\n",
       "  <tbody>\n",
       "    <tr>\n",
       "      <th>0</th>\n",
       "      <td>2017/12/14</td>\n",
       "      <td>speaker, portable, bluetooth</td>\n",
       "      <td>Boytone - 2500W 2.1-Ch. Home Theater System - ...</td>\n",
       "      <td>69.0</td>\n",
       "      <td>Walmart.com</td>\n",
       "      <td>Boytone</td>\n",
       "      <td>Boytone</td>\n",
       "      <td>Thursday</td>\n",
       "      <td>12</td>\n",
       "      <td>December</td>\n",
       "      <td>14</td>\n",
       "      <td>50</td>\n",
       "    </tr>\n",
       "  </tbody>\n",
       "</table>\n",
       "</div>"
      ],
      "text/plain": [
       "   date_imp_d                 category_name  \\\n",
       "0  2017/12/14  speaker, portable, bluetooth   \n",
       "\n",
       "                                                name  price     merchant  \\\n",
       "0  Boytone - 2500W 2.1-Ch. Home Theater System - ...   69.0  Walmart.com   \n",
       "\n",
       "     brand manufacturer     day_n  month   month_n  day  week_number  \n",
       "0  Boytone      Boytone  Thursday     12  December   14           50  "
      ]
     },
     "execution_count": 60,
     "metadata": {},
     "output_type": "execute_result"
    }
   ],
   "source": [
    "df1.head(1)"
   ]
  },
  {
   "cell_type": "markdown",
   "id": "2ced98ee",
   "metadata": {
    "heading_collapsed": true
   },
   "source": [
    "## 2.2 data dimension"
   ]
  },
  {
   "cell_type": "code",
   "execution_count": 61,
   "id": "f5b8eb8f",
   "metadata": {
    "ExecuteTime": {
     "end_time": "2024-11-18T21:24:44.636993Z",
     "start_time": "2024-11-18T21:24:44.632528Z"
    },
    "hidden": true
   },
   "outputs": [
    {
     "name": "stdout",
     "output_type": "stream",
     "text": [
      "number of rows: 23151\n",
      "number of columns: 12\n"
     ]
    }
   ],
   "source": [
    "print('number of rows: {}'.format(df1.shape[0]))\n",
    "print('number of columns: {}'.format(df1.shape[1]))"
   ]
  },
  {
   "cell_type": "markdown",
   "id": "0b7b94ca",
   "metadata": {},
   "source": [
    "## 2.3 data types"
   ]
  },
  {
   "cell_type": "code",
   "execution_count": 65,
   "id": "66c4c496",
   "metadata": {
    "ExecuteTime": {
     "end_time": "2024-11-18T21:30:23.670585Z",
     "start_time": "2024-11-18T21:30:23.664407Z"
    }
   },
   "outputs": [
    {
     "data": {
      "text/plain": [
       "date_imp_d       datetime64[ns]\n",
       "category_name            object\n",
       "name                     object\n",
       "price                   float64\n",
       "merchant                 object\n",
       "brand                    object\n",
       "manufacturer             object\n",
       "day_n                    object\n",
       "month                     int64\n",
       "month_n                  object\n",
       "day                       int64\n",
       "week_number               int64\n",
       "dtype: object"
      ]
     },
     "execution_count": 65,
     "metadata": {},
     "output_type": "execute_result"
    }
   ],
   "source": [
    "df1.dtypes"
   ]
  },
  {
   "cell_type": "markdown",
   "id": "fd1767b8",
   "metadata": {},
   "source": [
    "## 2.4 check NA"
   ]
  },
  {
   "cell_type": "code",
   "execution_count": 63,
   "id": "39af29be",
   "metadata": {
    "ExecuteTime": {
     "end_time": "2024-11-18T21:24:48.386146Z",
     "start_time": "2024-11-18T21:24:48.372629Z"
    }
   },
   "outputs": [
    {
     "data": {
      "text/plain": [
       "date_imp_d           0\n",
       "category_name        0\n",
       "name                 0\n",
       "price                0\n",
       "merchant             0\n",
       "brand                0\n",
       "manufacturer     10639\n",
       "day_n                0\n",
       "month                0\n",
       "month_n              0\n",
       "day                  0\n",
       "week_number          0\n",
       "dtype: int64"
      ]
     },
     "execution_count": 63,
     "metadata": {},
     "output_type": "execute_result"
    }
   ],
   "source": [
    "df1.isna().sum()"
   ]
  },
  {
   "cell_type": "markdown",
   "id": "233db332",
   "metadata": {},
   "source": [
    "## 2.5 change types"
   ]
  },
  {
   "cell_type": "code",
   "execution_count": 64,
   "id": "421ebd5f",
   "metadata": {
    "ExecuteTime": {
     "end_time": "2024-11-18T21:30:19.915988Z",
     "start_time": "2024-11-18T21:30:19.897086Z"
    }
   },
   "outputs": [],
   "source": [
    "df1['date_imp_d'] = pd.to_datetime(df1['date_imp_d'])"
   ]
  },
  {
   "cell_type": "markdown",
   "id": "211b7dee",
   "metadata": {},
   "source": [
    "## 2.6 descriptive statistics"
   ]
  },
  {
   "cell_type": "code",
   "execution_count": 70,
   "id": "3f559b59",
   "metadata": {
    "ExecuteTime": {
     "end_time": "2024-11-18T21:32:44.663800Z",
     "start_time": "2024-11-18T21:32:44.657721Z"
    }
   },
   "outputs": [],
   "source": [
    "num_attributes = df1.select_dtypes(include=['float64', 'int64'])\n",
    "cat_attributes = df1.select_dtypes(exclude=['float64', 'int64', 'datetime64[ns]'])"
   ]
  },
  {
   "cell_type": "markdown",
   "id": "c292eee0",
   "metadata": {},
   "source": [
    "### 2.6.1 numerical attributes"
   ]
  },
  {
   "cell_type": "code",
   "execution_count": 80,
   "id": "7b5f6c57",
   "metadata": {
    "ExecuteTime": {
     "end_time": "2024-11-18T21:42:05.205519Z",
     "start_time": "2024-11-18T21:42:05.165903Z"
    }
   },
   "outputs": [
    {
     "data": {
      "text/html": [
       "<div>\n",
       "<style scoped>\n",
       "    .dataframe tbody tr th:only-of-type {\n",
       "        vertical-align: middle;\n",
       "    }\n",
       "\n",
       "    .dataframe tbody tr th {\n",
       "        vertical-align: top;\n",
       "    }\n",
       "\n",
       "    .dataframe thead th {\n",
       "        text-align: right;\n",
       "    }\n",
       "</style>\n",
       "<table border=\"1\" class=\"dataframe\">\n",
       "  <thead>\n",
       "    <tr style=\"text-align: right;\">\n",
       "      <th></th>\n",
       "      <th>att</th>\n",
       "      <th>min</th>\n",
       "      <th>max</th>\n",
       "      <th>range</th>\n",
       "      <th>mean</th>\n",
       "      <th>median</th>\n",
       "      <th>std</th>\n",
       "      <th>skew</th>\n",
       "      <th>kurtosis</th>\n",
       "    </tr>\n",
       "  </thead>\n",
       "  <tbody>\n",
       "    <tr>\n",
       "      <th>0</th>\n",
       "      <td>price</td>\n",
       "      <td>1.0</td>\n",
       "      <td>10879.95</td>\n",
       "      <td>10878.95</td>\n",
       "      <td>513.037803</td>\n",
       "      <td>199.99</td>\n",
       "      <td>859.091448</td>\n",
       "      <td>4.595160</td>\n",
       "      <td>34.411146</td>\n",
       "    </tr>\n",
       "    <tr>\n",
       "      <th>1</th>\n",
       "      <td>month</td>\n",
       "      <td>1.0</td>\n",
       "      <td>12.00</td>\n",
       "      <td>11.00</td>\n",
       "      <td>7.651030</td>\n",
       "      <td>8.00</td>\n",
       "      <td>2.592787</td>\n",
       "      <td>-0.099417</td>\n",
       "      <td>-0.628859</td>\n",
       "    </tr>\n",
       "    <tr>\n",
       "      <th>2</th>\n",
       "      <td>day</td>\n",
       "      <td>1.0</td>\n",
       "      <td>31.00</td>\n",
       "      <td>30.00</td>\n",
       "      <td>15.693879</td>\n",
       "      <td>16.00</td>\n",
       "      <td>9.681413</td>\n",
       "      <td>0.032258</td>\n",
       "      <td>-1.331838</td>\n",
       "    </tr>\n",
       "    <tr>\n",
       "      <th>3</th>\n",
       "      <td>week_number</td>\n",
       "      <td>1.0</td>\n",
       "      <td>51.00</td>\n",
       "      <td>50.00</td>\n",
       "      <td>31.342750</td>\n",
       "      <td>32.00</td>\n",
       "      <td>11.316253</td>\n",
       "      <td>-0.266980</td>\n",
       "      <td>-0.648027</td>\n",
       "    </tr>\n",
       "  </tbody>\n",
       "</table>\n",
       "</div>"
      ],
      "text/plain": [
       "           att  min       max     range        mean  median         std  \\\n",
       "0        price  1.0  10879.95  10878.95  513.037803  199.99  859.091448   \n",
       "1        month  1.0     12.00     11.00    7.651030    8.00    2.592787   \n",
       "2          day  1.0     31.00     30.00   15.693879   16.00    9.681413   \n",
       "3  week_number  1.0     51.00     50.00   31.342750   32.00   11.316253   \n",
       "\n",
       "       skew   kurtosis  \n",
       "0  4.595160  34.411146  \n",
       "1 -0.099417  -0.628859  \n",
       "2  0.032258  -1.331838  \n",
       "3 -0.266980  -0.648027  "
      ]
     },
     "execution_count": 80,
     "metadata": {},
     "output_type": "execute_result"
    }
   ],
   "source": [
    "#central tendency\n",
    "ct1 = pd.DataFrame(num_attributes.apply(np.mean)).T\n",
    "ct2 = pd.DataFrame(num_attributes.apply(np.median)).T\n",
    "\n",
    "#dispersion\n",
    "d1 = pd.DataFrame(num_attributes.apply(max)).T\n",
    "d2 = pd.DataFrame(num_attributes.apply(min)).T\n",
    "d3 = pd.DataFrame(num_attributes.apply(np.std)).T\n",
    "d4 = pd.DataFrame(num_attributes.apply(lambda x: x.max() - x.min())).T\n",
    "d5 = pd.DataFrame(num_attributes.apply(lambda x: x.skew())).T\n",
    "d6 = pd.DataFrame(num_attributes.apply(lambda x: x.kurtosis())).T\n",
    "\n",
    "m = pd.concat([d2, d1, d4, ct1, ct2, d3, d5, d6]).T.reset_index()\n",
    "m.columns = ['att', 'min', 'max', 'range', 'mean', 'median', 'std', 'skew', 'kurtosis']\n",
    "m"
   ]
  },
  {
   "cell_type": "markdown",
   "id": "89b25415",
   "metadata": {},
   "source": [
    "### 2.6.2 categorical attributes"
   ]
  },
  {
   "cell_type": "code",
   "execution_count": 83,
   "id": "be30700e",
   "metadata": {
    "ExecuteTime": {
     "end_time": "2024-11-18T21:46:27.252532Z",
     "start_time": "2024-11-18T21:46:27.230617Z"
    }
   },
   "outputs": [
    {
     "data": {
      "text/plain": [
       "category_name     58\n",
       "name             908\n",
       "merchant           7\n",
       "brand            266\n",
       "manufacturer     236\n",
       "day_n              7\n",
       "month_n           11\n",
       "dtype: int64"
      ]
     },
     "execution_count": 83,
     "metadata": {},
     "output_type": "execute_result"
    }
   ],
   "source": [
    "cat_attributes.apply(lambda x: x.unique().shape[0])"
   ]
  },
  {
   "cell_type": "code",
   "execution_count": null,
   "id": "cc1b14f3",
   "metadata": {},
   "outputs": [],
   "source": []
  }
 ],
 "metadata": {
  "hide_input": false,
  "kernelspec": {
   "display_name": "Python 3 (ipykernel)",
   "language": "python",
   "name": "python3"
  },
  "language_info": {
   "codemirror_mode": {
    "name": "ipython",
    "version": 3
   },
   "file_extension": ".py",
   "mimetype": "text/x-python",
   "name": "python",
   "nbconvert_exporter": "python",
   "pygments_lexer": "ipython3",
   "version": "3.11.5"
  }
 },
 "nbformat": 4,
 "nbformat_minor": 5
}
